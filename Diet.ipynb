{
 "cells": [
  {
   "cell_type": "code",
   "execution_count": null,
   "metadata": {},
   "outputs": [
    {
     "name": "stdout",
     "output_type": "stream",
     "text": [
      "Welcome to the Health Managment System\n",
      "SElect any one:\n",
      "1.Add a new client\n",
      "2.Open existing client file\n",
      "------->4\n"
     ]
    }
   ],
   "source": [
    "#D:\\\\ML_Python\\\\Diet_Record\\\\db\n",
    "import os\n",
    "print(\"Welcome to the Health Managment System\")\n",
    "c=int(input(\"SElect any one:\\n1.Add a new client\\n2.Open existing client file\\n------->\"))\n",
    "if c==1:\n",
    "\tname=input(\"Enter the name of the client:\")\n",
    "\tname=\"D:\\\\ML_Python\\\\Diet_Record\\\\db\\\\\"+name+\".txt\"\n",
    "elif c==2:\n",
    "\timport os\n",
    "\tl=os.listdir(\"D:\\\\ML_Python\\\\Diet_Record\\\\db\")\n",
    "\tprint(\"Exixting clients are:\")\n",
    "\tn=1\n",
    "\t#sprint(l)\n",
    "\tfor i in l:\n",
    "\t\tprint(n,\".\",i.split(\".txt\")[0])\n",
    "\t\tn+=1\n",
    "\tnum=int(input(\"Chose the file no.:\"))\n",
    "\tname=l[num-1]#file name already include .txt\n",
    "\tname=\"D:\\\\ML_Python\\\\Diet_Record\\\\db\\\\\"+name\n",
    "else:\n",
    "\tprint(\"You Entered Wrong choice!\")\n",
    "\tos._exit(1)\n",
    "#time.asctime(time.localtime(time.time()))          gives current timereturn string\n",
    "import time\n",
    "#print(name)\n",
    "f=open(name,'a+')\n",
    "while True:\n",
    "\tc=int(input(\"Select any one:\\n1.Add Diet intake\\n2.Add exercise done\\n------->\"))\n",
    "\tif c==1:\n",
    "\t\ttfood=\"\"#tfood=totalfood\n",
    "\t\twhile True:\n",
    "\t\t\tfood=input(\"Enter the food taken:\")\n",
    "\t\t\tt=time.asctime(time.localtime(time.time()))\n",
    "\t\t\ttfood=tfood+food+\",\"\n",
    "\t\t\tchoice=input(\"Want to enter more diet<Y/N>:\")\n",
    "\t\t\tif choice=='Y' or choice=='y':\n",
    "\t\t\t\tpass\n",
    "\t\t\telse:\n",
    "\t\t\t\ttfood=tfood+\" taken at \"+t+\"\\n\"\n",
    "\t\t\t\tf.write(tfood)\n",
    "\t\t\t\tbreak\n",
    "\telif c==2:\n",
    "\t\ttex=\"\"#tex=totalexercise\n",
    "\t\twhile True:\n",
    "\t\t\tex=input(\"Enter the type of exercise done:\")\n",
    "\t\t\tt=time.asctime(time.localtime(time.time()))\n",
    "\t\t\ttex=tex+ex+\",\"\n",
    "\t\t\tchoice=input(\"Want to enter more Exercise<Y/N>:\")\n",
    "\t\t\tif choice=='Y' or choice=='y':\n",
    "\t\t\t\tpass\n",
    "\t\t\telse:\n",
    "\t\t\t\ttex=tex+\" exercise done at \"+t+\"\\n\"\n",
    "\t\t\t\tf.write(tex)\n",
    "\t\t\t\tbreak\n",
    "\telse:\n",
    "\t\tprint(\"You Entered Wrong choice!\")\n",
    "\t\tos._exit(1)\n",
    "\tq=input(\"Want to add more info<Y/N>:\")\n",
    "\tif q=='Y' or q=='y':\n",
    "\t\tpass\n",
    "\telse:\n",
    "\t\tbreak\n",
    "\n",
    "print(\"\\n\")\n",
    "f.seek(0)\n",
    "data=f.read()\n",
    "print(data)\n",
    "f.close()"
   ]
  },
  {
   "cell_type": "code",
   "execution_count": null,
   "metadata": {},
   "outputs": [],
   "source": []
  }
 ],
 "metadata": {
  "kernelspec": {
   "display_name": "Python 3",
   "language": "python",
   "name": "python3"
  },
  "language_info": {
   "codemirror_mode": {
    "name": "ipython",
    "version": 3
   },
   "file_extension": ".py",
   "mimetype": "text/x-python",
   "name": "python",
   "nbconvert_exporter": "python",
   "pygments_lexer": "ipython3",
   "version": "3.6.5"
  }
 },
 "nbformat": 4,
 "nbformat_minor": 2
}
